{
  "nbformat": 4,
  "nbformat_minor": 0,
  "metadata": {
    "colab": {
      "provenance": []
    },
    "kernelspec": {
      "name": "python3",
      "display_name": "Python 3"
    },
    "language_info": {
      "name": "python"
    }
  },
  "cells": [
    {
      "cell_type": "code",
      "execution_count": 48,
      "metadata": {
        "colab": {
          "base_uri": "https://localhost:8080/"
        },
        "id": "mI0D4_sZG_OV",
        "outputId": "7074a10e-dd80-45fc-831b-fb404ba97141"
      },
      "outputs": [
        {
          "output_type": "stream",
          "name": "stdout",
          "text": [
            "\u001b[31mERROR: Could not find a version that satisfies the requirement yad2k (from versions: none)\u001b[0m\u001b[31m\n",
            "\u001b[0m\u001b[31mERROR: No matching distribution found for yad2k\u001b[0m\u001b[31m\n",
            "\u001b[0m\u001b[31mERROR: Could not find a version that satisfies the requirement yad2k (from versions: none)\u001b[0m\u001b[31m\n",
            "\u001b[0m\u001b[31mERROR: No matching distribution found for yad2k\u001b[0m\u001b[31m\n",
            "\u001b[0m"
          ]
        }
      ],
      "source": [
        "import argparse\n",
        "import os\n",
        "import matplotlib.pyplot as plt\n",
        "from matplotlib.pyplot import imshow\n",
        "import scipy.io\n",
        "import scipy.misc\n",
        "import numpy as np\n",
        "import pandas as pd\n",
        "import PIL\n",
        "from PIL import ImageFont, ImageDraw, Image\n",
        "import tensorflow as tf\n",
        "from tensorflow.python.framework.ops import EagerTensor\n",
        "\n",
        "from tensorflow.keras.models import load_model\n",
        "!pip install yad2k\n",
        "\n",
        "%matplotlib inline"
      ]
    },
    {
      "cell_type": "markdown",
      "source": [
        "NOTE: I did the project on the online platform of Deep Learning Specification, and I could not manage to upload the same libraries on google collab, therefore some sections of the codes, I could not re-run here, however, I add the results (images) as seperate files to show the results."
      ],
      "metadata": {
        "id": "ZpbgC4-IOKF4"
      }
    },
    {
      "cell_type": "code",
      "source": [
        "from tensorflow.keras.models import load_model\n",
        "from yad2k.yad2k.utils import draw_boxes\n"
      ],
      "metadata": {
        "id": "nGlbPBBDAcgK"
      },
      "execution_count": 55,
      "outputs": []
    },
    {
      "cell_type": "code",
      "source": [
        "def yolo_filter_boxes(boxes, box_confidence, box_class_probs, threshold = 0.6):\n",
        "    \"\"\"Filters YOLO boxes by thresholding on object and class confidence.\n",
        "\n",
        "    Arguments:\n",
        "        boxes -- tensor of shape (19, 19, 5, 4)\n",
        "        box_confidence -- tensor of shape (19, 19, 5, 1)\n",
        "        box_class_probs -- tensor of shape (19, 19, 5, 80)\n",
        "        threshold -- real value, if [ highest class probability score < threshold],\n",
        "                     then get rid of the corresponding box\n",
        "\n",
        "    Returns:\n",
        "        scores -- tensor of shape (None,), containing the class probability score for selected boxes\n",
        "        boxes -- tensor of shape (None, 4), containing (b_x, b_y, b_h, b_w) coordinates of selected boxes\n",
        "        classes -- tensor of shape (None,), containing the index of the class detected by the selected boxes\n",
        "\n",
        "    Note: \"None\" is here because you don't know the exact number of selected boxes, as it depends on the threshold.\n",
        "    For example, the actual output size of scores would be (10,) if there are 10 boxes.\n",
        "    \"\"\"\n",
        "\n",
        "    x = 10\n",
        "    y = tf.constant(100)\n",
        "\n",
        "    # YOUR CODE STARTS HERE\n",
        "\n",
        "    # Step 1: Compute box scores\n",
        "    ##(≈ 1 line)\n",
        "    box_scores = box_class_probs*box_confidence\n",
        "\n",
        "    # Step 2: Find the box_classes using the max box_scores, keep track of the corresponding score\n",
        "    ##(≈ 2 lines)\n",
        "    box_classes= tf.math.argmax(box_scores,axis=-1)\n",
        "    box_class_scores= tf.math.reduce_max(box_scores,axis=-1)\n",
        "\n",
        "    # Step 3: Create a filtering mask based on \"box_class_scores\" by using \"threshold\". The mask should have the\n",
        "    # same dimension as box_class_scores, and be True for the boxes you want to keep (with probability >= threshold)\n",
        "    ## (≈ 1 line)\n",
        "    filtering_mask=(box_class_scores>= threshold)\n",
        "\n",
        "    # Step 4: Apply the mask to box_class_scores, boxes and box_classes\n",
        "    ## (≈ 3 lines)\n",
        "    scores=tf.boolean_mask(box_class_scores,filtering_mask)\n",
        "    boxes=tf.boolean_mask(boxes,filtering_mask)\n",
        "    classes=tf.boolean_mask(box_classes,filtering_mask)\n",
        "\n",
        "    # YOUR CODE ENDS HERE\n",
        "\n",
        "    return scores, boxes, classes"
      ],
      "metadata": {
        "id": "2DUOSCE_HYJY"
      },
      "execution_count": 12,
      "outputs": []
    },
    {
      "cell_type": "code",
      "source": [
        "tf.random.set_seed(10)\n",
        "box_confidence = tf.random.normal([19, 19, 5, 1], mean=1, stddev=4, seed = 1)\n",
        "boxes = tf.random.normal([19, 19, 5, 4], mean=1, stddev=4, seed = 1)\n",
        "box_class_probs = tf.random.normal([19, 19, 5, 80], mean=1, stddev=4, seed = 1)\n",
        "scores, boxes, classes = yolo_filter_boxes(boxes, box_confidence, box_class_probs, threshold = 0.5)\n",
        "print(\"scores[2] = \" + str(scores[2].numpy()))\n",
        "print(\"boxes[2] = \" + str(boxes[2].numpy()))\n",
        "print(\"classes[2] = \" + str(classes[2].numpy()))\n",
        "print(\"scores.shape = \" + str(scores.shape))\n",
        "print(\"boxes.shape = \" + str(boxes.shape))\n",
        "print(\"classes.shape = \" + str(classes.shape))\n",
        "\n",
        "assert type(scores) == EagerTensor, \"Use tensorflow functions\"\n",
        "assert type(boxes) == EagerTensor, \"Use tensorflow functions\"\n",
        "assert type(classes) == EagerTensor, \"Use tensorflow functions\"\n",
        "\n",
        "assert scores.shape == (1789,), \"Wrong shape in scores\"\n",
        "assert boxes.shape == (1789, 4), \"Wrong shape in boxes\"\n",
        "assert classes.shape == (1789,), \"Wrong shape in classes\"\n",
        "\n",
        "assert np.isclose(scores[2].numpy(), 9.270486), \"Values are wrong on scores\"\n",
        "assert np.allclose(boxes[2].numpy(), [4.6399336, 3.2303846, 4.431282, -2.202031]), \"Values are wrong on boxes\"\n",
        "assert classes[2].numpy() == 8, \"Values are wrong on classes\"\n",
        "\n",
        "print(\"\\033[92m All tests passed!\")"
      ],
      "metadata": {
        "colab": {
          "base_uri": "https://localhost:8080/"
        },
        "id": "5QYFGMwZHly2",
        "outputId": "b32b59e7-1560-4e45-e9f2-5db783ee8996"
      },
      "execution_count": 16,
      "outputs": [
        {
          "output_type": "stream",
          "name": "stdout",
          "text": [
            "scores[2] = 9.270486\n",
            "boxes[2] = [ 4.6399336  3.2303846  4.431282  -2.202031 ]\n",
            "classes[2] = 8\n",
            "scores.shape = (1789,)\n",
            "boxes.shape = (1789, 4)\n",
            "classes.shape = (1789,)\n",
            "\u001b[92m All tests passed!\n"
          ]
        }
      ]
    },
    {
      "cell_type": "code",
      "source": [
        "def iou(box1, box2):\n",
        "    \"\"\"Implement the intersection over union (IoU) between box1 and box2\n",
        "\n",
        "    Arguments:\n",
        "    box1 -- first box, list object with coordinates (box1_x1, box1_y1, box1_x2, box_1_y2)\n",
        "    box2 -- second box, list object with coordinates (box2_x1, box2_y1, box2_x2, box2_y2)\n",
        "    \"\"\"\n",
        "\n",
        "    (box1_x1, box1_y1, box1_x2, box1_y2) = box1\n",
        "    (box2_x1, box2_y1, box2_x2, box2_y2) = box2\n",
        "\n",
        "    # YOUR CODE STARTS HERE\n",
        "\n",
        "    # Calculate the (yi1, xi1, yi2, xi2) coordinates of the intersection of box1 and box2. Calculate its Area.\n",
        "    ##(≈ 7 lines)\n",
        "    xi1 = max(box1_x1,box2_x1)\n",
        "    xi2 = min(box1_x2,box2_x2)\n",
        "    yi1 = max(box1_y1,box2_y1)\n",
        "    yi2 = min(box1_y2,box2_y2)\n",
        "    intersection_w = max(0,yi2 - yi1)\n",
        "    intersection_h = max(0,xi2 - xi1)\n",
        "    intersection_A = intersection_w*intersection_h\n",
        "\n",
        "    # Calculate the Union area by using Formula: Union(A,B) = A + B - Inter(A,B)\n",
        "    ## (≈ 3 lines)\n",
        "    box1_A = (box1_x2-box1_x1)*((box1_y2-box1_y1))\n",
        "    box1_A = (box2_x2-box2_x1)*((box2_y2-box2_y1))\n",
        "    union_A = box1_A + box1_A - intersection_A\n",
        "\n",
        "    # compute the IoU\n",
        "    ## (≈ 1 line)\n",
        "    iou = intersection_A/union_A\n",
        "\n",
        "    # YOUR CODE ENDS HERE\n",
        "\n",
        "    return iou"
      ],
      "metadata": {
        "id": "5F_sYwMHHomn"
      },
      "execution_count": 17,
      "outputs": []
    },
    {
      "cell_type": "code",
      "source": [
        "## Test case 1: boxes intersect\n",
        "box1 = (2, 1, 4, 3)\n",
        "box2 = (1, 2, 3, 4)\n",
        "\n",
        "print(\"iou for intersecting boxes = \" + str(iou(box1, box2)))\n",
        "assert iou(box1, box2) < 1, \"The intersection area must be always smaller or equal than the union area.\"\n",
        "assert np.isclose(iou(box1, box2), 0.14285714), \"Wrong value. Check your implementation. Problem with intersecting boxes\"\n",
        "\n",
        "## Test case 2: boxes do not intersect\n",
        "box1 = (1,2,3,4)\n",
        "box2 = (5,6,7,8)\n",
        "print(\"iou for non-intersecting boxes = \" + str(iou(box1,box2)))\n",
        "assert iou(box1, box2) == 0, \"Intersection must be 0\"\n",
        "\n",
        "## Test case 3: boxes intersect at vertices only\n",
        "box1 = (1,1,2,2)\n",
        "box2 = (2,2,3,3)\n",
        "print(\"iou for boxes that only touch at vertices = \" + str(iou(box1,box2)))\n",
        "assert iou(box1, box2) == 0, \"Intersection at vertices must be 0\"\n",
        "\n",
        "## Test case 4: boxes intersect at edge only\n",
        "box1 = (1,1,3,3)\n",
        "box2 = (2,3,3,4)\n",
        "print(\"iou for boxes that only touch at edges = \" + str(iou(box1,box2)))\n",
        "assert iou(box1, box2) == 0, \"Intersection at edges must be 0\"\n",
        "\n",
        "print(\"\\033[92m All tests passed!\")"
      ],
      "metadata": {
        "colab": {
          "base_uri": "https://localhost:8080/"
        },
        "id": "MISIi6BDHve7",
        "outputId": "a812ca4c-1a3c-47b3-f8a8-3a53e36ca5ce"
      },
      "execution_count": 18,
      "outputs": [
        {
          "output_type": "stream",
          "name": "stdout",
          "text": [
            "iou for intersecting boxes = 0.14285714285714285\n",
            "iou for non-intersecting boxes = 0.0\n",
            "iou for boxes that only touch at vertices = 0.0\n",
            "iou for boxes that only touch at edges = 0.0\n",
            "\u001b[92m All tests passed!\n"
          ]
        }
      ]
    },
    {
      "cell_type": "code",
      "source": [
        "def yolo_non_max_suppression(scores, boxes, classes, max_boxes = 10, iou_threshold = 0.5):\n",
        "    \"\"\"\n",
        "    Applies Non-max suppression (NMS) to set of boxes\n",
        "\n",
        "    Arguments:\n",
        "    scores -- tensor of shape (None,), output of yolo_filter_boxes()\n",
        "    boxes -- tensor of shape (None, 4), output of yolo_filter_boxes() that have been scaled to the image size (see later)\n",
        "    classes -- tensor of shape (None,), output of yolo_filter_boxes()\n",
        "    max_boxes -- integer, maximum number of predicted boxes you'd like\n",
        "    iou_threshold -- real value, \"intersection over union\" threshold used for NMS filtering\n",
        "\n",
        "    Returns:\n",
        "    scores -- tensor of shape (, None), predicted score for each box\n",
        "    boxes -- tensor of shape (4, None), predicted box coordinates\n",
        "    classes -- tensor of shape (, None), predicted class for each box\n",
        "\n",
        "    Note: The \"None\" dimension of the output tensors has obviously to be less than max_boxes. Note also that this\n",
        "    function will transpose the shapes of scores, boxes, classes. This is made for convenience.\n",
        "    \"\"\"\n",
        "\n",
        "    max_boxes_tensor = tf.Variable(max_boxes, dtype='int32')     # tensor to be used in tf.image.non_max_suppression()\n",
        "\n",
        "    # Use tf.image.non_max_suppression() to get the list of indices corresponding to boxes you keep\n",
        "    ##(≈ 1 line)\n",
        "    indices_nms = tf.image.non_max_suppression(boxes,scores,max_boxes_tensor,iou_threshold)\n",
        "\n",
        "    # Use tf.gather() to select only nms_indices from scores, boxes and classes\n",
        "    ##(≈ 3 lines)\n",
        "    scores = tf.gather(scores,indices_nms)\n",
        "    boxes = tf.gather(boxes,indices_nms)\n",
        "    classes = tf.gather(classes,indices_nms)\n",
        "\n",
        "\n",
        "    return scores, boxes, classes"
      ],
      "metadata": {
        "id": "fIOAIG4J60_C"
      },
      "execution_count": 29,
      "outputs": []
    },
    {
      "cell_type": "code",
      "source": [
        "tf.random.set_seed(10)\n",
        "scores = tf.random.normal([54,], mean=1, stddev=4, seed = 1)\n",
        "boxes = tf.random.normal([54, 4], mean=1, stddev=4, seed = 1)\n",
        "classes = tf.random.normal([54,], mean=1, stddev=4, seed = 1)\n",
        "scores, boxes, classes = yolo_non_max_suppression(scores, boxes, classes)\n",
        "\n",
        "assert type(scores) == EagerTensor, \"Use tensoflow functions\"\n",
        "print(\"scores[2] = \" + str(scores[2].numpy()))\n",
        "print(\"boxes[2] = \" + str(boxes[2].numpy()))\n",
        "print(\"classes[2] = \" + str(classes[2].numpy()))\n",
        "print(\"scores.shape = \" + str(scores.numpy().shape))\n",
        "print(\"boxes.shape = \" + str(boxes.numpy().shape))\n",
        "print(\"classes.shape = \" + str(classes.numpy().shape))\n",
        "\n",
        "assert type(scores) == EagerTensor, \"Use tensoflow functions\"\n",
        "assert type(boxes) == EagerTensor, \"Use tensoflow functions\"\n",
        "assert type(classes) == EagerTensor, \"Use tensoflow functions\"\n",
        "\n",
        "assert scores.shape == (10,), \"Wrong shape\"\n",
        "assert boxes.shape == (10, 4), \"Wrong shape\"\n",
        "assert classes.shape == (10,), \"Wrong shape\"\n",
        "\n",
        "assert np.isclose(scores[2].numpy(), 8.147684), \"Wrong value on scores\"\n",
        "assert np.allclose(boxes[2].numpy(), [ 6.0797963, 3.743308, 1.3914018, -0.34089637]), \"Wrong value on boxes\"\n",
        "assert np.isclose(classes[2].numpy(), 1.7079165), \"Wrong value on classes\"\n",
        "\n",
        "print(\"\\033[92m All tests passed!\")"
      ],
      "metadata": {
        "colab": {
          "base_uri": "https://localhost:8080/"
        },
        "id": "xWlrSupl62Fa",
        "outputId": "85441bf1-28f4-4304-ae68-e86c0dcb52cb"
      },
      "execution_count": 30,
      "outputs": [
        {
          "output_type": "stream",
          "name": "stdout",
          "text": [
            "scores[2] = 8.147684\n",
            "boxes[2] = [ 6.0797963   3.743308    1.3914018  -0.34089637]\n",
            "classes[2] = 1.7079165\n",
            "scores.shape = (10,)\n",
            "boxes.shape = (10, 4)\n",
            "classes.shape = (10,)\n",
            "\u001b[92m All tests passed!\n"
          ]
        }
      ]
    },
    {
      "cell_type": "code",
      "source": [
        "def yolo_boxes_to_corners(box_xy, box_wh):\n",
        "    \"\"\"Convert YOLO box predictions to bounding box corners.\"\"\"\n",
        "    box_mins = box_xy - (box_wh / 2.)\n",
        "    box_maxes = box_xy + (box_wh / 2.)\n",
        "\n",
        "    return tf.keras.backend.concatenate([\n",
        "        box_mins[..., 1:2],  # y_min\n",
        "        box_mins[..., 0:1],  # x_min\n",
        "        box_maxes[..., 1:2],  # y_max\n",
        "        box_maxes[..., 0:1]  # x_max\n",
        "    ])"
      ],
      "metadata": {
        "id": "3qXKPkbK7A1x"
      },
      "execution_count": 34,
      "outputs": []
    },
    {
      "cell_type": "code",
      "source": [
        "# GRADED FUNCTION: yolo_eval\n",
        "\n",
        "def yolo_eval(yolo_outputs, image_shape = (720, 1280), max_boxes=10, score_threshold=.6, iou_threshold=.5):\n",
        "    \"\"\"\n",
        "    Converts the output of YOLO encoding (a lot of boxes) to your predicted boxes along with their scores, box coordinates and classes.\n",
        "\n",
        "    Arguments:\n",
        "    yolo_outputs -- output of the encoding model (for image_shape of (608, 608, 3)), contains 4 tensors:\n",
        "                    box_xy: tensor of shape (None, 19, 19, 5, 2)\n",
        "                    box_wh: tensor of shape (None, 19, 19, 5, 2)\n",
        "                    box_confidence: tensor of shape (None, 19, 19, 5, 1)\n",
        "                    box_class_probs: tensor of shape (None, 19, 19, 5, 80)\n",
        "    image_shape -- tensor of shape (2,) containing the input shape, in this notebook we use (608., 608.) (has to be float32 dtype)\n",
        "    max_boxes -- integer, maximum number of predicted boxes you'd like\n",
        "    score_threshold -- real value, if [ highest class probability score < threshold], then get rid of the corresponding box\n",
        "    iou_threshold -- real value, \"intersection over union\" threshold used for NMS filtering\n",
        "\n",
        "    Returns:\n",
        "    scores -- tensor of shape (None, ), predicted score for each box\n",
        "    boxes -- tensor of shape (None, 4), predicted box coordinates\n",
        "    classes -- tensor of shape (None,), predicted class for each box\n",
        "    \"\"\"\n",
        "\n",
        "\n",
        "    # Retrieve outputs of the YOLO model (≈1 line)\n",
        "    box_xy, box_wh, box_confidence, box_class_probs=yolo_outputs\n",
        "\n",
        "    # Convert boxes to be ready for filtering functions (convert boxes box_xy and box_wh to corner coordinates)\n",
        "    boxes=yolo_boxes_to_corners(box_xy, box_wh)\n",
        "\n",
        "    # Use one of the functions you've implemented to perform Score-filtering with a threshold of score_threshold (≈1 line)\n",
        "    scores, boxes, classes=yolo_filter_boxes(boxes, box_confidence,box_class_probs,score_threshold)\n",
        "\n",
        "    # Scale boxes back to original image shape (720, 1280 or whatever)\n",
        "    boxes=scale_boxes(boxes, image_shape) # Network was trained to run on 608x608 images\n",
        "\n",
        "    # Use one of the functions you've implemented to perform Non-max suppression with\n",
        "    # maximum number of boxes set to max_boxes and a threshold of iou_threshold (≈1 line)\n",
        "    scores, boxes, classes=yolo_non_max_suppression(scores, boxes, classes, max_boxes, iou_threshold)\n",
        "\n",
        "\n",
        "    return scores, boxes, classes\n"
      ],
      "metadata": {
        "id": "w1I0e2Pl7EWB"
      },
      "execution_count": 39,
      "outputs": []
    },
    {
      "cell_type": "code",
      "source": [
        "tf.random.set_seed(10)\n",
        "yolo_outputs = (tf.random.normal([19, 19, 5, 2], mean=1, stddev=4, seed = 1),\n",
        "                tf.random.normal([19, 19, 5, 2], mean=1, stddev=4, seed = 1),\n",
        "                tf.random.normal([19, 19, 5, 1], mean=1, stddev=4, seed = 1),\n",
        "                tf.random.normal([19, 19, 5, 80], mean=1, stddev=4, seed = 1))\n",
        "scores, boxes, classes = yolo_eval(yolo_outputs)\n",
        "print(\"scores[2] = \" + str(scores[2].numpy()))\n",
        "print(\"boxes[2] = \" + str(boxes[2].numpy()))\n",
        "print(\"classes[2] = \" + str(classes[2].numpy()))\n",
        "print(\"scores.shape = \" + str(scores.numpy().shape))\n",
        "print(\"boxes.shape = \" + str(boxes.numpy().shape))\n",
        "print(\"classes.shape = \" + str(classes.numpy().shape))\n",
        "\n",
        "assert type(scores) == EagerTensor, \"Use tensoflow functions\"\n",
        "assert type(boxes) == EagerTensor, \"Use tensoflow functions\"\n",
        "assert type(classes) == EagerTensor, \"Use tensoflow functions\"\n",
        "\n",
        "assert scores.shape == (10,), \"Wrong shape\"\n",
        "assert boxes.shape == (10, 4), \"Wrong shape\"\n",
        "assert classes.shape == (10,), \"Wrong shape\"\n",
        "\n",
        "assert np.isclose(scores[2].numpy(), 171.60194), \"Wrong value on scores\"\n",
        "assert np.allclose(boxes[2].numpy(), [-1240.3483, -3212.5881, -645.78, 2024.3052]), \"Wrong value on boxes\"\n",
        "assert np.isclose(classes[2].numpy(), 16), \"Wrong value on classes\"\n",
        "\n",
        "print(\"\\033[92m All tests passed!\")"
      ],
      "metadata": {
        "id": "1Mya_e7nO0ha"
      },
      "execution_count": null,
      "outputs": []
    },
    {
      "cell_type": "code",
      "source": [
        "class_names = read_classes(\"coco_classes.txt\")\n",
        "anchors = read_anchors(\"yolo_anchors.txt\")\n",
        "model_image_size = (608, 608) # Same as yolo_model input layer size"
      ],
      "metadata": {
        "id": "PkcHBtmd-96N"
      },
      "execution_count": null,
      "outputs": []
    },
    {
      "cell_type": "code",
      "source": [
        "yolo_model = load_model(\"model_data/\", compile=False)"
      ],
      "metadata": {
        "id": "opNlQ654_AoR"
      },
      "execution_count": null,
      "outputs": []
    },
    {
      "cell_type": "code",
      "source": [
        "yolo_model.summary()"
      ],
      "metadata": {
        "id": "PSTAyx6R_B4t"
      },
      "execution_count": null,
      "outputs": []
    },
    {
      "cell_type": "code",
      "source": [
        "def predict(image_file):\n",
        "    \"\"\"\n",
        "    Runs the graph to predict boxes for \"image_file\". Prints and plots the predictions.\n",
        "\n",
        "    Arguments:\n",
        "    image_file -- name of an image stored in the \"images\" folder.\n",
        "\n",
        "    Returns:\n",
        "    out_scores -- tensor of shape (None, ), scores of the predicted boxes\n",
        "    out_boxes -- tensor of shape (None, 4), coordinates of the predicted boxes\n",
        "    out_classes -- tensor of shape (None, ), class index of the predicted boxes\n",
        "\n",
        "    Note: \"None\" actually represents the number of predicted boxes, it varies between 0 and max_boxes.\n",
        "    \"\"\"\n",
        "\n",
        "    # Preprocess your image\n",
        "    image, image_data=preprocess_image(\"images/\" + image_file, model_image_size = (608, 608))\n",
        "\n",
        "    yolo_model_outputs = yolo_model(image_data) # It's output is of shape (m, 19, 19, 5, 85)\n",
        "    # But yolo_eval takes input a tensor contains 4 tensors: box_xy,box_wh, box_confidence & box_class_probs\n",
        "    yolo_outputs = yolo_head(yolo_model_outputs, anchors, len(class_names))\n",
        "\n",
        "    out_scores, out_boxes, out_classes = yolo_eval(yolo_outputs, [image.size[1],  image.size[0]], 10, 0.3, 0.5)\n",
        "\n",
        "    # Print predictions info\n",
        "    print('Found {} boxes for {}'.format(len(out_boxes), \"images/\" + image_file))\n",
        "    # Generate colors for drawing bounding boxes.\n",
        "    colors = get_colors_for_classes(len(class_names))\n",
        "    # Draw bounding boxes on the image file\n",
        "    #draw_boxes2(image, out_scores, out_boxes, out_classes, class_names, colors, image_shape)\n",
        "    draw_boxes(image, out_boxes, out_classes, class_names, out_scores)\n",
        "    # Save the predicted bounding box on the image\n",
        "    image.save(os.path.join(\"out\", str(image_file).split('.')[0]+\"_annotated.\" +str(image_file).split('.')[1] ), quality=100)\n",
        "    # Display the results in the notebook\n",
        "    output_image = Image.open(os.path.join(\"out\", str(image_file).split('.')[0]+\"_annotated.\" +str(image_file).split('.')[1] ))\n",
        "    imshow(output_image)\n",
        "\n",
        "    return out_scores, out_boxes, out_classes"
      ],
      "metadata": {
        "id": "XBc_HxOrRRSG"
      },
      "execution_count": 26,
      "outputs": []
    },
    {
      "cell_type": "code",
      "source": [
        "out_scores, out_boxes, out_classes = predict(\"0001.jpg\")"
      ],
      "metadata": {
        "id": "P_GQHOwL_FSe"
      },
      "execution_count": null,
      "outputs": []
    }
  ]
}